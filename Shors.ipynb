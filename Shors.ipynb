{
 "cells": [
  {
   "cell_type": "code",
   "execution_count": 6,
   "id": "6eff0d2d-bdaf-4dec-a05f-b6e12f7e3e3e",
   "metadata": {},
   "outputs": [],
   "source": [
    "from qiskit.circuit import QuantumCircuit\n",
    "from qiskit import QuantumCircuit, transpile, QuantumRegister, ClassicalRegister, AncillaRegister\n",
    "from qiskit.visualization import plot_histogram\n",
    "from matplotlib import pyplot as plt\n",
    "\n",
    "import QuantumRingsLib\n",
    "from QuantumRingsLib import QuantumRingsProvider\n",
    "from quantumrings.toolkit.qiskit import QrBackendV2\n",
    "from quantumrings.toolkit.qiskit import QrJobV1\n",
    "\n",
    "import numpy as np\n",
    "\n",
    "from matplotlib import pyplot as plt\n",
    "\n",
    "# Acquire the Quantum Rings Provider\n",
    "qr_provider = QuantumRingsProvider()"
   ]
  },
  {
   "cell_type": "code",
   "execution_count": 3,
   "id": "a11ed7f6-0b14-43e7-a0ff-9cda6e1a1366",
   "metadata": {},
   "outputs": [],
   "source": [
    "backend = qr_provider.get_backend(\"scarlet_quantum_rings\")\n",
    "shots = 1024"
   ]
  },
  {
   "cell_type": "code",
   "execution_count": 117,
   "id": "87ba5462-0542-41ae-8dd3-ea574feeb2e6",
   "metadata": {},
   "outputs": [],
   "source": [
    "def qft_cct(qc, q):\n",
    "    \"\"\"\n",
    "    Forward QFT circuit \n",
    "    Args:\n",
    "        qc (QuantumCircuit): The quantum circuit\n",
    "        q (QuantumRegister): Target quantum registers\n",
    "    Returns:\n",
    "        None\n",
    "    \"\"\"\n",
    "    n = len(q)\n",
    "    for i in reversed(range(n)):\n",
    "        qc.h(q[i])\n",
    "        for j in range(i):\n",
    "            angle = np.pi / 2**(i - j)\n",
    "            qc.cu1(angle, q[j], q[i])\n",
    "    qc.barrier()"
   ]
  },
  {
   "cell_type": "code",
   "execution_count": 56,
   "id": "a07fb8a9-56df-4a1a-8ec8-bb5476b1755e",
   "metadata": {},
   "outputs": [],
   "source": [
    "def iqft_cct(qc, q):\n",
    "    \"\"\"\n",
    "    The inverse QFT circuit\n",
    "    Args:\n",
    "        qc (QuantumCircuit): The quantum circuit\n",
    "        q (QuantumRegister): Target quantum registers\n",
    "    Returns:\n",
    "        None\n",
    "    \"\"\"\n",
    "    n = len(q)\n",
    "    for i in range(n):\n",
    "        for j in range (1, i+1):\n",
    "            angle = np.pi / 2**(i-j+1)\n",
    "            qc.cu1(-angle, q[j-1], q[i])\n",
    "        qc.h(q[i])\n",
    "    qc.barrier()"
   ]
  },
  {
   "cell_type": "code",
   "execution_count": 115,
   "id": "4119f40f-c980-4216-88f7-819b9ea615b9",
   "metadata": {},
   "outputs": [],
   "source": [
    "def adder_reg(qc, q, a):\n",
    "    \"\"\"\n",
    "    Addition of q+a stored on registers 'q' and 'a' using a QFT-based adder.\n",
    "    Assumes the QFT basis.\n",
    "    Args:\n",
    "        qc (QuantumCircuit): The circuit\n",
    "        q (QuantumRegister): Register to apply the adder\n",
    "        a (QuantumRegister): Register to add by\n",
    "    \"\"\"\n",
    "    n = len(q)\n",
    "    for i in range(len(a)):\n",
    "        for j in range(n-i):\n",
    "            angle = np.pi / 2**(n - i - j - 1)\n",
    "            qc.cu1(angle, a[i], q[j])\n",
    "    qc.barrier()"
   ]
  },
  {
   "cell_type": "code",
   "execution_count": 116,
   "id": "09e16498-f36f-452b-9a97-69c70ba6d948",
   "metadata": {},
   "outputs": [],
   "source": [
    "def adder(qc, q, N, subtract=False):\n",
    "    \"\"\"\n",
    "    Subtracts N from q stored on registers 'q'.\n",
    "    Assumes QFT basis.\n",
    "    Args:\n",
    "        qc (QuantumCircuit): The circuit\n",
    "        q (QuantumRegister): Register to apply the adder\n",
    "        N (Integer): Integer to subtract by\n",
    "        subtract (Boolean): Set to subtract rather than add\n",
    "    \"\"\"\n",
    "    rotate_dir = 1\n",
    "    if subtract: rotate_dir = -1\n",
    "    n = len(q)\n",
    "    N_bin = format(N, f'0{n}b')[::-1]\n",
    "    for i in range(n):\n",
    "        if N_bin[i] == '1':\n",
    "            for j in range(i + 1):\n",
    "                angle = np.pi / 2**(i - j)\n",
    "                qc.p(rotate_dir * angle, q[j])\n",
    "    qc.barrier()"
   ]
  },
  {
   "cell_type": "code",
   "execution_count": 118,
   "id": "1d8900a1-9d84-4d32-bcb5-707a9b282cd1",
   "metadata": {},
   "outputs": [],
   "source": [
    "def mod_adder(qc, q, a, N, ancilla):\n",
    "    \"\"\"\n",
    "    Addition of q+a stored on registers 'q' and 'a' using a QFT-based adder.\n",
    "    Args:\n",
    "        qc (QuantumCircuit): The circuit\n",
    "        q (QuantumRegister): Register to apply the adder\n",
    "        a (QuantumRegister): Register to add by\n",
    "        N: Modulus\n",
    "        ancilla (QuantumRegister): Overflow control\n",
    "    \"\"\"\n",
    "    qft_cct(qc, q)\n",
    "    adder(qc, q, a)\n",
    "    subtracter(qc, q, N)\n",
    "    iqft_cct(qc, q)\n",
    "    qc.cx(q[0], ancilla)\n",
    "\n",
    "    # TODO: UNDERFLOW PROTECTION\n",
    "    qc1 = QuantumCircuit(q, a, ancilla)\n",
    "    adder(qc1, q, a)\n",
    "    cadder = qc1.to_gate().control(1)\n",
    "        "
   ]
  },
  {
   "cell_type": "code",
   "execution_count": 119,
   "id": "14cdaa72-c726-444c-840e-3d19e689ad23",
   "metadata": {},
   "outputs": [],
   "source": [
    "def mod_mul(qc, q, a):\n",
    "    \"\"\"\n",
    "    Modular multiply by 'a': computes (a * x mod N)\n",
    "    \"\"\"\n",
    "    # TODO\n",
    "       "
   ]
  },
  {
   "cell_type": "code",
   "execution_count": 74,
   "id": "deb6edeb-3289-4609-9098-26b8fb7efcec",
   "metadata": {},
   "outputs": [],
   "source": [
    "# Registers to store binary rep of a in a^x. For example, 7^x.\n",
    "# Use as many as necessary to store your trial value of a.\n",
    "adders = QuantumRegister(4, 'a')\n",
    "\n",
    "# Registers to store the results of controlled exponentiation.\n",
    "# Use as many as necessary to store N.\n",
    "num_workers = int(np.ceil(np.log2(N)))\n",
    "workers = QuantumRegister(num_workers, 'x')\n",
    "\n",
    "# Registers to store binary reps of x in a^x. \n",
    "# Use as many as necessary to store the expected value of r, usually N.\n",
    "# Can use fewer with some loss of precision.\n",
    "\n",
    "#err = 0.25\n",
    "#num_controls = 2*num_workers + int(np.ceil(np.log2(2 + 1/(2*err))))\n",
    "num_controls = 3 # We know that 4 is the largest period of 7 in 15.\n",
    "controllers = QuantumRegister(num_controls, 'c')\n",
    "readout = ClassicalRegister(num_controls, 'r')"
   ]
  },
  {
   "cell_type": "code",
   "execution_count": 80,
   "id": "c1a34663-31c7-49c2-bbbf-526ed5e17969",
   "metadata": {},
   "outputs": [],
   "source": [
    "qc = QuantumCircuit(adders, workers, controllers, readout)"
   ]
  },
  {
   "cell_type": "code",
   "execution_count": 81,
   "id": "cd456b23-7042-4140-9c54-17e2b3001a21",
   "metadata": {
    "scrolled": true
   },
   "outputs": [
    {
     "data": {
      "text/html": [
       "<pre style=\"word-wrap: normal;white-space: pre;background: #fff0;line-height: 1.1;font-family: &quot;Courier New&quot;,Courier,monospace\">           ░ \n",
       "a_0: ──────░─\n",
       "           ░ \n",
       "a_1: ──────░─\n",
       "           ░ \n",
       "a_2: ──────░─\n",
       "           ░ \n",
       "a_3: ──────░─\n",
       "           ░ \n",
       "x_0: ──────░─\n",
       "           ░ \n",
       "x_1: ──────░─\n",
       "           ░ \n",
       "x_2: ──────░─\n",
       "     ┌───┐ ░ \n",
       "x_3: ┤ X ├─░─\n",
       "     ├───┤ ░ \n",
       "c_0: ┤ H ├─░─\n",
       "     ├───┤ ░ \n",
       "c_1: ┤ H ├─░─\n",
       "     ├───┤ ░ \n",
       "c_2: ┤ H ├─░─\n",
       "     └───┘ ░ \n",
       "r: 3/════════\n",
       "             </pre>"
      ],
      "text/plain": [
       "           ░ \n",
       "a_0: ──────░─\n",
       "           ░ \n",
       "a_1: ──────░─\n",
       "           ░ \n",
       "a_2: ──────░─\n",
       "           ░ \n",
       "a_3: ──────░─\n",
       "           ░ \n",
       "x_0: ──────░─\n",
       "           ░ \n",
       "x_1: ──────░─\n",
       "           ░ \n",
       "x_2: ──────░─\n",
       "     ┌───┐ ░ \n",
       "x_3: ┤ X ├─░─\n",
       "     ├───┤ ░ \n",
       "c_0: ┤ H ├─░─\n",
       "     ├───┤ ░ \n",
       "c_1: ┤ H ├─░─\n",
       "     ├───┤ ░ \n",
       "c_2: ┤ H ├─░─\n",
       "     └───┘ ░ \n",
       "r: 3/════════\n",
       "             "
      ]
     },
     "execution_count": 81,
     "metadata": {},
     "output_type": "execute_result"
    }
   ],
   "source": [
    "# Initialize source and target registers\n",
    "qc.h(controllers)\n",
    "qc.x(workers[-1])\n",
    "qc.barrier()\n",
    "qc.draw()"
   ]
  },
  {
   "cell_type": "code",
   "execution_count": 120,
   "id": "7b40c8f8-1771-40c1-b986-0affe1696f22",
   "metadata": {},
   "outputs": [],
   "source": [
    "# Modular exponentiation via addition"
   ]
  },
  {
   "cell_type": "code",
   "execution_count": 104,
   "id": "1b267e06-8722-4cce-bcec-d44249b0f3f1",
   "metadata": {},
   "outputs": [
    {
     "name": "stdout",
     "output_type": "stream",
     "text": [
      "The GCD of 5 and 15 is 5\n"
     ]
    }
   ],
   "source": [
    "# Calculate GCD w/ Euclid's Algorithm\n",
    "def postprocess(a, r, N):\n",
    "    l = a**r - 1\n",
    "    gcd = euclids_gcd(l, N)\n",
    "    if (gcd > 1) and (gcd < N):\n",
    "        return gcd\n",
    "    u = a**r + 1\n",
    "    gcd = euclids_gcd(u, N)\n",
    "    if (gcd > 1) and (gcd < N):\n",
    "        return gcd\n",
    "    return -1\n",
    "\n",
    "def euclids_gcd(a, b):\n",
    "    while b != 0:\n",
    "        a, b = b, a % b\n",
    "    return a\n",
    "\n",
    "a = 5\n",
    "b = 15\n",
    "print(f\"The GCD of {a} and {b} is {euclids_gcd(a, b)}\")"
   ]
  },
  {
   "cell_type": "code",
   "execution_count": null,
   "id": "c229a850-d5f3-49e8-a67e-1516590ae1b3",
   "metadata": {},
   "outputs": [],
   "source": []
  }
 ],
 "metadata": {
  "kernelspec": {
   "display_name": "Python [conda env:qenv]",
   "language": "python",
   "name": "conda-env-qenv-py"
  },
  "language_info": {
   "codemirror_mode": {
    "name": "ipython",
    "version": 3
   },
   "file_extension": ".py",
   "mimetype": "text/x-python",
   "name": "python",
   "nbconvert_exporter": "python",
   "pygments_lexer": "ipython3",
   "version": "3.12.8"
  }
 },
 "nbformat": 4,
 "nbformat_minor": 5
}
